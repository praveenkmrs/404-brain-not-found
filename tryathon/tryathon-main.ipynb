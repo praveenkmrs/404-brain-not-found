{
 "cells": [
  {
   "cell_type": "code",
   "execution_count": 0,
   "metadata": {
    "application/vnd.databricks.v1+cell": {
     "cellMetadata": {
      "byteLimit": 2048000,
      "rowLimit": 10000
     },
     "inputWidgets": {},
     "nuid": "a33d50ea-2163-4372-ae99-2d947893b269",
     "showTitle": false,
     "tableResultSettingsMap": {},
     "title": ""
    }
   },
   "outputs": [],
   "source": [
    "%pip install langchain\n",
    "%pip install langchain-community\n",
    "%pip install langchain-chroma\n",
    "%pip install langchain-openai\n",
    "%pip install openai==1.56.2\n",
    "%pip install azure-identity==1.19.0\n",
    "%pip install pydantic==2.9.2\n",
    "%pip install requests\n",
    "%pip install gitpython\n",
    "%pip install python-dotenv\n",
    "%pip install repomix"
   ]
  },
  {
   "cell_type": "code",
   "execution_count": 0,
   "metadata": {
    "application/vnd.databricks.v1+cell": {
     "cellMetadata": {
      "byteLimit": 2048000,
      "rowLimit": 10000
     },
     "inputWidgets": {},
     "nuid": "b5225e8e-da19-4db4-8905-33ca0b869520",
     "showTitle": false,
     "tableResultSettingsMap": {},
     "title": ""
    }
   },
   "outputs": [],
   "source": [
    "import os\n",
    "from openai import AzureOpenAI\n",
    "from azure.identity import ClientSecretCredential\n",
    "######## Boilerplate necessary to make things work in OneLab/OpenLab ########\n",
    "LAB_VARIANT = \"OpenLab\" # USE \"OneLab\" IF YOU'RE USING ONELAB\n",
    "ENVIRONMENT = \"prd\" # choose ENVIRONMENT as dev, uat or prd based on environment\n",
    "def get_openai_urls(lab_variant: str):\n",
    "  \"\"\"This function is created to return OpenAI URLs for OpenLab/OneLab. We want to use the function with lazy evaluation so that OneLab doesn't affect OpenLab and vice-versa.\"\"\"\n",
    "  if lab_variant == \"OpenLab\":\n",
    "    secret_scope = f\"{lab_variant}-SecretScope\"\n",
    "    return f\"https://{dbutils.secrets.get(scope=secret_scope, key='OpenAiHostname')}openoaisdc-completions-apis/\"\n",
    "  elif lab_variant == \"OneLab\":\n",
    "    return f\"https://apim-1labgen-ap-apizone-{ENVIRONMENT}01.azure-api.net/openaisdc-completions-apis/\"\n",
    "  else: \n",
    "    raise Exception(\"Invalid lab_variant\")\n",
    "\n",
    "client_id = dbutils.secrets.get(scope=f\"{LAB_VARIANT}-SecretScope\", key=\"DataServicePrincipalClientId\")\n",
    "client_secret = dbutils.secrets.get(scope=f\"{LAB_VARIANT}-SecretScope\", key=\"DataServicePrincipalClientSecret\")\n",
    "credential = ClientSecretCredential(tenant_id=\"6e93a626-8aca-4dc1-9191-ce291b4b75a1\", client_id=client_id, client_secret=client_secret)\n",
    "access_token = credential.get_token(\"https://cognitiveservices.azure.com/.default\")\n",
    "\n",
    "os.environ[\"AZURE_OPENAI_TOKEN\"] = access_token.token\n",
    "os.environ[\"AZURE_OPENAI_VERSION\"] = \"2024-10-21\"  # https://learn.microsoft.com/en-us/azure/ai-services/openai/reference#api-specs\n",
    "os.environ[\"AZURE_OPENAI_BASE_URL\"] = get_openai_urls(LAB_VARIANT)\n",
    "os.environ[\"USER_AGENT\"] = \"myagent\"\n",
    "\n",
    "client = AzureOpenAI(\n",
    "  api_key=os.environ[\"AZURE_OPENAI_TOKEN\"],  \n",
    "  api_version=os.environ[\"AZURE_OPENAI_VERSION\"],\n",
    "  azure_endpoint=os.environ[\"AZURE_OPENAI_BASE_URL\"]\n",
    ")"
   ]
  },
  {
   "cell_type": "code",
   "execution_count": 0,
   "metadata": {
    "application/vnd.databricks.v1+cell": {
     "cellMetadata": {
      "byteLimit": 2048000,
      "rowLimit": 10000
     },
     "inputWidgets": {},
     "nuid": "ee739e32-6022-46ee-9edd-fbccd04d2ccb",
     "showTitle": false,
     "tableResultSettingsMap": {},
     "title": ""
    }
   },
   "outputs": [],
   "source": [
    "def get_completion_without_rag(query: str, context: str) -> str:\n",
    "      \"\"\"Returns the completion from GPT4 without any augmentation.\"\"\"\n",
    "      completion = client.chat.completions.create(\n",
    "        model=\"gpt-4o\",\n",
    "        messages=[\n",
    "          {\"role\": \"system\", \"content\": context}, # <-- This is the system message that provides context to the model\n",
    "          {\"role\": \"user\", \"content\": query}  # <-- This is the user message for which the model will generate a response\n",
    "        ],\n",
    "        seed=1\n",
    "      )\n",
    "      return completion.choices[0].message.content\n",
    "  \n",
    "def get_completion_with_rag(query: str, context: str, extra_content: str) -> str:\n",
    "    \"\"\"Runs a RAG pipeline that will augment the context with extra_content if 'rabo' is in the query. Returns the chat completion.\"\"\"  \n",
    "    context += f\"Wikipedia page about Rabobank that you can reference: {extra_content}\"\n",
    "    completion = client.chat.completions.create(\n",
    "    model=\"gpt-4o\",\n",
    "    messages=[\n",
    "        {\"role\": \"system\", \"content\": context},  # <-- This is the system message that provides context to the model\n",
    "        {\"role\": \"user\", \"content\": query}  # <-- This is the user message for which the model will generate a response\n",
    "    ],\n",
    "    seed=1\n",
    "    )\n",
    "    return completion.choices[0].message.content"
   ]
  },
  {
   "cell_type": "code",
   "execution_count": 0,
   "metadata": {
    "application/vnd.databricks.v1+cell": {
     "cellMetadata": {
      "byteLimit": 2048000,
      "rowLimit": 10000
     },
     "inputWidgets": {},
     "nuid": "8f8f334e-3894-477d-883c-0c195496fc75",
     "showTitle": false,
     "tableResultSettingsMap": {},
     "title": ""
    }
   },
   "outputs": [],
   "source": [
    "get_completion_without_rag(\n",
    "    query=\"What makes the sky blue?\",\n",
    "    context=\"You are a pirate poet. Give creative responses\"\n",
    ")"
   ]
  },
  {
   "cell_type": "code",
   "execution_count": 0,
   "metadata": {
    "application/vnd.databricks.v1+cell": {
     "cellMetadata": {
      "byteLimit": 2048000,
      "rowLimit": 10000
     },
     "inputWidgets": {},
     "nuid": "47f50910-6b9c-41ed-a074-b15aa59ec363",
     "showTitle": false,
     "tableResultSettingsMap": {},
     "title": ""
    }
   },
   "outputs": [],
   "source": [
    "from prompts.prompt_loader import load_prompt_from_file\n",
    "\n",
    "prompt = load_prompt_from_file(\"sample_prompt.txt\")"
   ]
  }
 ],
 "metadata": {
  "application/vnd.databricks.v1+notebook": {
   "computePreferences": null,
   "dashboards": [],
   "environmentMetadata": {
    "base_environment": "",
    "environment_version": "3"
   },
   "inputWidgetPreferences": null,
   "language": "python",
   "notebookMetadata": {
    "mostRecentlyExecutedCommandWithImplicitDF": {
     "commandId": -1,
     "dataframes": [
      "_sqldf"
     ]
    },
    "pythonIndentUnit": 4
   },
   "notebookName": "tryathon-main",
   "widgets": {}
  },
  "language_info": {
   "name": "python"
  }
 },
 "nbformat": 4,
 "nbformat_minor": 0
}
